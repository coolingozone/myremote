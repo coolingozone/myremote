{
 "cells": [
  {
   "cell_type": "markdown",
   "metadata": {},
   "source": [
    "## Demo of a Remote Eye project data file "
   ]
  },
  {
   "cell_type": "code",
   "execution_count": 36,
   "metadata": {
    "collapsed": true
   },
   "outputs": [],
   "source": [
    "#import all the required packages\n",
    "\n",
    "import numpy as np\n",
    "import pandas as pd\n",
    "import matplotlib.pyplot as plt\n",
    "import matplotlib\n",
    "import math "
   ]
  },
  {
   "cell_type": "markdown",
   "metadata": {},
   "source": [
    "# Data Collection\n",
    "\n",
    "Data is collected by a setup as shown below in one of the MCT lab for about a week:\n",
    "\n",
    "\n",
    "The end product is a CSV file that contain the timestamp and the number of pulse train at a certain instance detected by the doppler microwave sensor. As usual the first we do when we got the csv file, we open with a excel to view it:\n",
    "\n",
    "![excel capture of csv file](excel_capture.jpg \"data\")\n",
    "\n",
    "\n"
   ]
  },
  {
   "cell_type": "markdown",
   "metadata": {},
   "source": [
    "##  Data Cleaning\n",
    "\n",
    "Read in the data from the csv file skipping first row  as it is the label. "
   ]
  },
  {
   "cell_type": "code",
   "execution_count": 37,
   "metadata": {},
   "outputs": [
    {
     "data": {
      "text/html": [
       "<div>\n",
       "<table border=\"1\" class=\"dataframe\">\n",
       "  <thead>\n",
       "    <tr style=\"text-align: right;\">\n",
       "      <th></th>\n",
       "      <th>name</th>\n",
       "      <th>time</th>\n",
       "      <th>node1</th>\n",
       "      <th>value</th>\n",
       "    </tr>\n",
       "  </thead>\n",
       "  <tbody>\n",
       "    <tr>\n",
       "      <th>0</th>\n",
       "      <td>reading</td>\n",
       "      <td>1502194093000000000</td>\n",
       "      <td>node_1</td>\n",
       "      <td>1.00</td>\n",
       "    </tr>\n",
       "    <tr>\n",
       "      <th>1</th>\n",
       "      <td>reading</td>\n",
       "      <td>1502194218000000000</td>\n",
       "      <td>node_1</td>\n",
       "      <td>1.00</td>\n",
       "    </tr>\n",
       "    <tr>\n",
       "      <th>2</th>\n",
       "      <td>reading</td>\n",
       "      <td>1502194236000000000</td>\n",
       "      <td>node_1</td>\n",
       "      <td>2.00</td>\n",
       "    </tr>\n",
       "    <tr>\n",
       "      <th>3</th>\n",
       "      <td>reading</td>\n",
       "      <td>1502194491000000000</td>\n",
       "      <td>node_1</td>\n",
       "      <td>3.00</td>\n",
       "    </tr>\n",
       "    <tr>\n",
       "      <th>4</th>\n",
       "      <td>reading</td>\n",
       "      <td>1502194751000000000</td>\n",
       "      <td>node_1</td>\n",
       "      <td>4.00</td>\n",
       "    </tr>\n",
       "  </tbody>\n",
       "</table>\n",
       "</div>"
      ],
      "text/plain": [
       "      name                 time   node1 value\n",
       "0  reading  1502194093000000000  node_1  1.00\n",
       "1  reading  1502194218000000000  node_1  1.00\n",
       "2  reading  1502194236000000000  node_1  2.00\n",
       "3  reading  1502194491000000000  node_1  3.00\n",
       "4  reading  1502194751000000000  node_1  4.00"
      ]
     },
     "execution_count": 37,
     "metadata": {},
     "output_type": "execute_result"
    }
   ],
   "source": [
    "df=pd.read_csv('reading2_20170807.csv',names=['name', 'time', 'node1', 'value'],skiprows=1)\n",
    "\n",
    "#take a peek at the data\n",
    "\n",
    "df.head()"
   ]
  },
  {
   "cell_type": "markdown",
   "metadata": {},
   "source": [
    "###  As there are error in the data file as shown below, some nan are produced when reading from the csv file. We had to get ride of these nan to clean up the data.\n",
    "![error in the data](excel_error.jpg \"error in data1\")"
   ]
  },
  {
   "cell_type": "code",
   "execution_count": 38,
   "metadata": {
    "collapsed": true
   },
   "outputs": [],
   "source": [
    "#using to numeric function and remove row that cannot be converted\n",
    "df=df.ix[:,['time','value']]\n",
    "df['time'] = pd.to_numeric(df['time'], errors='coerce')\n",
    "df['value'] = pd.to_numeric(df['value'], errors='coerce')\n"
   ]
  },
  {
   "cell_type": "code",
   "execution_count": 39,
   "metadata": {},
   "outputs": [
    {
     "data": {
      "text/html": [
       "<div>\n",
       "<table border=\"1\" class=\"dataframe\">\n",
       "  <thead>\n",
       "    <tr style=\"text-align: right;\">\n",
       "      <th></th>\n",
       "      <th>time</th>\n",
       "      <th>value</th>\n",
       "    </tr>\n",
       "  </thead>\n",
       "  <tbody>\n",
       "    <tr>\n",
       "      <th>0</th>\n",
       "      <td>2017-08-08 12:08:13</td>\n",
       "      <td>1</td>\n",
       "    </tr>\n",
       "    <tr>\n",
       "      <th>1</th>\n",
       "      <td>2017-08-08 12:10:18</td>\n",
       "      <td>1</td>\n",
       "    </tr>\n",
       "    <tr>\n",
       "      <th>2</th>\n",
       "      <td>2017-08-08 12:10:36</td>\n",
       "      <td>2</td>\n",
       "    </tr>\n",
       "    <tr>\n",
       "      <th>3</th>\n",
       "      <td>2017-08-08 12:14:51</td>\n",
       "      <td>3</td>\n",
       "    </tr>\n",
       "    <tr>\n",
       "      <th>4</th>\n",
       "      <td>2017-08-08 12:19:11</td>\n",
       "      <td>4</td>\n",
       "    </tr>\n",
       "  </tbody>\n",
       "</table>\n",
       "</div>"
      ],
      "text/plain": [
       "                 time  value\n",
       "0 2017-08-08 12:08:13      1\n",
       "1 2017-08-08 12:10:18      1\n",
       "2 2017-08-08 12:10:36      2\n",
       "3 2017-08-08 12:14:51      3\n",
       "4 2017-08-08 12:19:11      4"
      ]
     },
     "execution_count": 39,
     "metadata": {},
     "output_type": "execute_result"
    }
   ],
   "source": [
    "# the unix timestamp is huge and probably in nano-second, after experimenting realised that the last 9 zeros need to be removed\n",
    "df['time']=df['time']/1000000000\n",
    "df['time']=pd.to_datetime(df['time'],unit='s')\n",
    "df.head()"
   ]
  },
  {
   "cell_type": "code",
   "execution_count": 40,
   "metadata": {},
   "outputs": [
    {
     "data": {
      "text/html": [
       "<div>\n",
       "<table border=\"1\" class=\"dataframe\">\n",
       "  <thead>\n",
       "    <tr style=\"text-align: right;\">\n",
       "      <th></th>\n",
       "      <th>time</th>\n",
       "      <th>value</th>\n",
       "    </tr>\n",
       "  </thead>\n",
       "  <tbody>\n",
       "    <tr>\n",
       "      <th>7971</th>\n",
       "      <td>2017-08-10 00:00:08</td>\n",
       "      <td>40</td>\n",
       "    </tr>\n",
       "    <tr>\n",
       "      <th>7972</th>\n",
       "      <td>2017-08-10 00:00:24</td>\n",
       "      <td>41</td>\n",
       "    </tr>\n",
       "    <tr>\n",
       "      <th>7973</th>\n",
       "      <td>2017-08-10 00:00:40</td>\n",
       "      <td>42</td>\n",
       "    </tr>\n",
       "    <tr>\n",
       "      <th>7974</th>\n",
       "      <td>2017-08-10 00:00:56</td>\n",
       "      <td>43</td>\n",
       "    </tr>\n",
       "    <tr>\n",
       "      <th>7975</th>\n",
       "      <td>2017-08-10 00:01:12</td>\n",
       "      <td>44</td>\n",
       "    </tr>\n",
       "  </tbody>\n",
       "</table>\n",
       "</div>"
      ],
      "text/plain": [
       "                    time  value\n",
       "7971 2017-08-10 00:00:08     40\n",
       "7972 2017-08-10 00:00:24     41\n",
       "7973 2017-08-10 00:00:40     42\n",
       "7974 2017-08-10 00:00:56     43\n",
       "7975 2017-08-10 00:01:12     44"
      ]
     },
     "execution_count": 40,
     "metadata": {},
     "output_type": "execute_result"
    }
   ],
   "source": [
    "df=df[(df['time'] > '2017-08-10')]\n",
    "df.head()\n"
   ]
  },
  {
   "cell_type": "markdown",
   "metadata": {},
   "source": [
    "# Data Transformation and Visualization\n",
    "\n",
    "We need to add two more column to make our analysis easie. They are the week of the day (0 for monday and 6 for sunday) and also to group all time to only the hour."
   ]
  },
  {
   "cell_type": "code",
   "execution_count": 41,
   "metadata": {},
   "outputs": [
    {
     "data": {
      "text/html": [
       "<div>\n",
       "<table border=\"1\" class=\"dataframe\">\n",
       "  <thead>\n",
       "    <tr style=\"text-align: right;\">\n",
       "      <th></th>\n",
       "      <th>time</th>\n",
       "      <th>value</th>\n",
       "      <th>day_of_week</th>\n",
       "      <th>hour</th>\n",
       "    </tr>\n",
       "  </thead>\n",
       "  <tbody>\n",
       "    <tr>\n",
       "      <th>7971</th>\n",
       "      <td>2017-08-10 00:00:08</td>\n",
       "      <td>40</td>\n",
       "      <td>3</td>\n",
       "      <td>0</td>\n",
       "    </tr>\n",
       "    <tr>\n",
       "      <th>7972</th>\n",
       "      <td>2017-08-10 00:00:24</td>\n",
       "      <td>41</td>\n",
       "      <td>3</td>\n",
       "      <td>0</td>\n",
       "    </tr>\n",
       "    <tr>\n",
       "      <th>7973</th>\n",
       "      <td>2017-08-10 00:00:40</td>\n",
       "      <td>42</td>\n",
       "      <td>3</td>\n",
       "      <td>0</td>\n",
       "    </tr>\n",
       "    <tr>\n",
       "      <th>7974</th>\n",
       "      <td>2017-08-10 00:00:56</td>\n",
       "      <td>43</td>\n",
       "      <td>3</td>\n",
       "      <td>0</td>\n",
       "    </tr>\n",
       "    <tr>\n",
       "      <th>7975</th>\n",
       "      <td>2017-08-10 00:01:12</td>\n",
       "      <td>44</td>\n",
       "      <td>3</td>\n",
       "      <td>0</td>\n",
       "    </tr>\n",
       "  </tbody>\n",
       "</table>\n",
       "</div>"
      ],
      "text/plain": [
       "                    time  value  day_of_week  hour\n",
       "7971 2017-08-10 00:00:08     40            3     0\n",
       "7972 2017-08-10 00:00:24     41            3     0\n",
       "7973 2017-08-10 00:00:40     42            3     0\n",
       "7974 2017-08-10 00:00:56     43            3     0\n",
       "7975 2017-08-10 00:01:12     44            3     0"
      ]
     },
     "execution_count": 41,
     "metadata": {},
     "output_type": "execute_result"
    }
   ],
   "source": [
    "#df['time']=df['time'].dt.tz_localize('UTC').dt.tz_convert('Asia/Singapore')\n",
    "df['day_of_week'] = df['time'].dt.weekday\n",
    "df['hour']=df['time'].dt.hour\n",
    "\n",
    "df.head()"
   ]
  },
  {
   "cell_type": "markdown",
   "metadata": {},
   "source": [
    "### Let's plot a scatter plot of week of the day vs number of pulse to make sense of the data"
   ]
  },
  {
   "cell_type": "code",
   "execution_count": 42,
   "metadata": {},
   "outputs": [
    {
     "data": {
      "image/png": "[encoded data removed]",
      "text/plain": [
       "<matplotlib.figure.Figure at 0x7f151f64df98>"
      ]
     },
     "metadata": {},
     "output_type": "display_data"
    }
   ],
   "source": [
    "#scatter plot of week of the day vs number of pulse\n",
    "fig1, ax1 = plt.subplots()\n",
    "ax1.scatter(df['day_of_week'], df['value'], alpha=0.5)\n",
    "ax1.set_title(\"Week of day vs value\")\n",
    "ax1.set_xlabel('week of the day')\n",
    "ax1.set_ylabel('number of pulse')\n",
    "plt.show()"
   ]
  },
  {
   "cell_type": "markdown",
   "metadata": {},
   "source": [
    "### The only conclusion we could get out of the graph is that there is no pulse detected on satursay and sunday. This is comforting as we expect no one to be in the lab during weekend and the data show that the sensor is probably working properly.\n",
    "\n",
    "### We got to further transform the data to group by hour interval such as 0:00, 1:00 and so on and compute the mean number of pulse detected within the interval."
   ]
  },
  {
   "cell_type": "code",
   "execution_count": 43,
   "metadata": {},
   "outputs": [
    {
     "name": "stdout",
     "output_type": "stream",
     "text": [
      "                      value\n",
      "day_of_week hour           \n",
      "0           0     50.864979\n",
      "            1     33.483122\n",
      "            2     47.890295\n",
      "            3     45.263713\n",
      "            4     32.559072\n",
      "            5     42.683544\n",
      "            6     74.761603\n",
      "            7     48.075949\n",
      "            8     52.902954\n",
      "            9     18.976793\n",
      "            10    10.396624\n",
      "            11    13.415612\n",
      "            12    11.727848\n",
      "            13     0.042105\n",
      "            14     0.004228\n",
      "            15     0.018947\n",
      "            16     0.002114\n",
      "            17     0.033613\n",
      "            18     0.006342\n",
      "            19     0.021097\n",
      "            20     0.002110\n",
      "            21     0.027426\n",
      "            22     0.002110\n",
      "            23     0.780591\n",
      "1           0     25.721519\n",
      "            1     39.694737\n",
      "            2     36.472574\n",
      "            3     39.675105\n",
      "            4     23.018987\n",
      "            5     28.442105\n",
      "...                     ...\n",
      "5           18     0.010571\n",
      "            19     0.025263\n",
      "            20     0.008439\n",
      "            21     0.014768\n",
      "            22     0.004219\n",
      "            23     0.016878\n",
      "6           0      0.014768\n",
      "            1      0.012658\n",
      "            2      0.006329\n",
      "            3      0.023207\n",
      "            4      0.016842\n",
      "            5      0.029598\n",
      "            6      0.006316\n",
      "            7      0.031712\n",
      "            8      0.010526\n",
      "            9      0.014799\n",
      "            10     0.012632\n",
      "            11     0.021142\n",
      "            12     0.018947\n",
      "            13     0.016878\n",
      "            14     0.008439\n",
      "            15     0.016878\n",
      "            16     0.021097\n",
      "            17     0.023207\n",
      "            18     0.016878\n",
      "            19     0.010549\n",
      "            20     0.023207\n",
      "            21     0.014799\n",
      "            22     0.029474\n",
      "            23     0.006329\n",
      "\n",
      "[168 rows x 1 columns]\n"
     ]
    }
   ],
   "source": [
    "grouped=df.groupby(['day_of_week','hour']).mean()\n",
    "print(grouped)"
   ]
  },
  {
   "cell_type": "markdown",
   "metadata": {},
   "source": [
    "### inspection of th data tell us something very troubling. There is quite a high mean number of pulse during mid-night which is pretty puzzling. As it turn out, this due to time-zone and there is a need to convert the datetime to Singapore timezone."
   ]
  },
  {
   "cell_type": "code",
   "execution_count": 44,
   "metadata": {},
   "outputs": [
    {
     "data": {
      "text/html": [
       "<div>\n",
       "<table border=\"1\" class=\"dataframe\">\n",
       "  <thead>\n",
       "    <tr style=\"text-align: right;\">\n",
       "      <th></th>\n",
       "      <th>time</th>\n",
       "      <th>value</th>\n",
       "      <th>day_of_week</th>\n",
       "      <th>hour</th>\n",
       "    </tr>\n",
       "  </thead>\n",
       "  <tbody>\n",
       "    <tr>\n",
       "      <th>7971</th>\n",
       "      <td>2017-08-10 08:00:08+08:00</td>\n",
       "      <td>40</td>\n",
       "      <td>3</td>\n",
       "      <td>8</td>\n",
       "    </tr>\n",
       "    <tr>\n",
       "      <th>7972</th>\n",
       "      <td>2017-08-10 08:00:24+08:00</td>\n",
       "      <td>41</td>\n",
       "      <td>3</td>\n",
       "      <td>8</td>\n",
       "    </tr>\n",
       "    <tr>\n",
       "      <th>7973</th>\n",
       "      <td>2017-08-10 08:00:40+08:00</td>\n",
       "      <td>42</td>\n",
       "      <td>3</td>\n",
       "      <td>8</td>\n",
       "    </tr>\n",
       "    <tr>\n",
       "      <th>7974</th>\n",
       "      <td>2017-08-10 08:00:56+08:00</td>\n",
       "      <td>43</td>\n",
       "      <td>3</td>\n",
       "      <td>8</td>\n",
       "    </tr>\n",
       "    <tr>\n",
       "      <th>7975</th>\n",
       "      <td>2017-08-10 08:01:12+08:00</td>\n",
       "      <td>44</td>\n",
       "      <td>3</td>\n",
       "      <td>8</td>\n",
       "    </tr>\n",
       "  </tbody>\n",
       "</table>\n",
       "</div>"
      ],
      "text/plain": [
       "                          time  value  day_of_week  hour\n",
       "7971 2017-08-10 08:00:08+08:00     40            3     8\n",
       "7972 2017-08-10 08:00:24+08:00     41            3     8\n",
       "7973 2017-08-10 08:00:40+08:00     42            3     8\n",
       "7974 2017-08-10 08:00:56+08:00     43            3     8\n",
       "7975 2017-08-10 08:01:12+08:00     44            3     8"
      ]
     },
     "execution_count": 44,
     "metadata": {},
     "output_type": "execute_result"
    }
   ],
   "source": [
    "df=pd.read_csv('reading2_20170807.csv',names=['name', 'time', 'node1', 'value'],skiprows=1)\n",
    "#using to numeric function and remove row that cannot be converted\n",
    "df=df.ix[:,['time','value']]\n",
    "df['time'] = pd.to_numeric(df['time'], errors='coerce')\n",
    "df['value'] = pd.to_numeric(df['value'], errors='coerce')\n",
    "# the unix timestamp is huge and probably in nano-second, after experimenting realised that the last 9 zeros need to be removed\n",
    "df['time']=df['time']/1000000000\n",
    "df['time']=pd.to_datetime(df['time'],unit='s')\n",
    "df['time']=df['time'].dt.tz_localize('UTC').dt.tz_convert('Asia/Singapore')\n",
    "df['day_of_week'] = df['time'].dt.weekday\n",
    "df['hour']=df['time'].dt.hour\n",
    "df=df[(df['time'] > '2017-08-10')]\n",
    "df.head()\n",
    "\n"
   ]
  },
  {
   "cell_type": "code",
   "execution_count": 46,
   "metadata": {},
   "outputs": [
    {
     "name": "stdout",
     "output_type": "stream",
     "text": [
      "                      value\n",
      "day_of_week hour           \n",
      "0           0      0.021097\n",
      "            1      0.023207\n",
      "            2      0.016878\n",
      "            3      0.010549\n",
      "            4      0.023207\n",
      "            5      0.014799\n",
      "            6      0.029474\n",
      "            7      0.006329\n",
      "            8     50.864979\n",
      "            9     33.483122\n",
      "            10    47.890295\n",
      "            11    45.263713\n",
      "            12    32.559072\n",
      "            13    42.683544\n",
      "            14    74.761603\n",
      "            15    48.075949\n",
      "            16    52.902954\n",
      "            17    18.976793\n",
      "            18    10.396624\n",
      "            19    13.415612\n",
      "            20    11.727848\n",
      "            21     0.042105\n",
      "            22     0.004228\n",
      "            23     0.018947\n",
      "1           0      0.002114\n",
      "            1      0.033613\n",
      "            2      0.006342\n",
      "            3      0.021097\n",
      "            4      0.002110\n",
      "            5      0.027426\n",
      "...                     ...\n",
      "5           18     0.016878\n",
      "            19     0.035865\n",
      "            20     0.010526\n",
      "            21     0.010571\n",
      "            22     0.004211\n",
      "            23     0.027484\n",
      "6           0      0.014737\n",
      "            1      0.018947\n",
      "            2      0.010571\n",
      "            3      0.025263\n",
      "            4      0.008439\n",
      "            5      0.014768\n",
      "            6      0.004219\n",
      "            7      0.016878\n",
      "            8      0.014768\n",
      "            9      0.012658\n",
      "            10     0.006329\n",
      "            11     0.023207\n",
      "            12     0.016842\n",
      "            13     0.029598\n",
      "            14     0.006316\n",
      "            15     0.031712\n",
      "            16     0.010526\n",
      "            17     0.014799\n",
      "            18     0.012632\n",
      "            19     0.021142\n",
      "            20     0.018947\n",
      "            21     0.016878\n",
      "            22     0.008439\n",
      "            23     0.016878\n",
      "\n",
      "[168 rows x 1 columns]\n"
     ]
    }
   ],
   "source": [
    "grouped=df.groupby(['day_of_week','hour']).mean()\n",
    "print(grouped)"
   ]
  },
  {
   "cell_type": "code",
   "execution_count": 47,
   "metadata": {},
   "outputs": [
    {
     "data": {
      "image/png": "[encoded data removed]",
      "text/plain": [
       "<matplotlib.figure.Figure at 0x7f151c8853c8>"
      ]
     },
     "metadata": {},
     "output_type": "display_data"
    },
    {
     "data": {
      "image/png": "[encoded data removed]",
      "text/plain": [
       "<matplotlib.figure.Figure at 0x7f151c8292e8>"
      ]
     },
     "metadata": {},
     "output_type": "display_data"
    },
    {
     "data": {
      "image/png": "[encoded data removed]",
      "text/plain": [
       "<matplotlib.figure.Figure at 0x7f151f6650f0>"
      ]
     },
     "metadata": {},
     "output_type": "display_data"
    }
   ],
   "source": [
    "fig, (ax1) = plt.subplots(nrows = 1, sharex = True)\n",
    "for i in range(0,6,1):\n",
    "  #ax1.plot(grouped.loc[i], marker=u'+')\n",
    "  temp= grouped.loc[i]\n",
    "  ax1.scatter(range(0,24,1),temp['value'].T,alpha=0.5)\n",
    "legend = ax1.legend(loc='upper right', shadow=True)\n",
    "fig2, am = plt.subplots(nrows = 7, sharex = True)\n",
    "for i in range(0,6,1):\n",
    "  temp= grouped.loc[i]\n",
    "  am[i].scatter(range(0,24,1),temp['value'].T,alpha=0.5)\n",
    "fig3, at = plt.subplots(nrows = 1, sharex = True)\n",
    "for i in range(0,6,1):\n",
    "  temp= grouped.loc[i]\n",
    "  hb=at.hexbin(range(0,24,1),temp['value'].T,cmap='inferno')\n",
    "\n",
    "cb = fig3.colorbar(hb, ax=at)\n",
    "\n",
    "cb.set_label('counts')\n",
    "plt.show()"
   ]
  }
 ],
 "metadata": {
  "kernelspec": {
   "display_name": "Python 3",
   "language": "python",
   "name": "python3"
  },
  "language_info": {
   "codemirror_mode": {
    "name": "ipython",
    "version": 3
   },
   "file_extension": ".py",
   "mimetype": "text/x-python",
   "name": "python",
   "nbconvert_exporter": "python",
   "pygments_lexer": "ipython3",
   "version": "3.5.2"
  }
 },
 "nbformat": 4,
 "nbformat_minor": 2
}
